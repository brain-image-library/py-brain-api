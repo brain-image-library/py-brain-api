{
 "cells": [
  {
   "cell_type": "code",
   "execution_count": null,
   "id": "80903063-f303-4374-ab01-648baddef8b9",
   "metadata": {},
   "outputs": [],
   "source": [
    "import brainimagelibrary as brainzzz\n",
    "import pandas as pd"
   ]
  },
  {
   "cell_type": "code",
   "execution_count": null,
   "id": "e79c9482-558b-47dd-8212-0ec12b30168f",
   "metadata": {},
   "outputs": [],
   "source": [
    "bildid = 'ace-ace-ace'"
   ]
  },
  {
   "cell_type": "code",
   "execution_count": null,
   "id": "fd291d7e-7ad6-4e7d-9d00-f6a802624274",
   "metadata": {},
   "outputs": [],
   "source": [
    "metadata = brainzzz.reports.__get_did(bildid=bildid)\n",
    "metadata"
   ]
  },
  {
   "cell_type": "code",
   "execution_count": null,
   "id": "b6bdf11b-7d69-4165-985c-401e02f31bad",
   "metadata": {},
   "outputs": [],
   "source": [
    "report = brainzzz.reports.daily()"
   ]
  },
  {
   "cell_type": "code",
   "execution_count": null,
   "id": "bdf2fd92-3f08-44f8-85e5-2436ba61c98e",
   "metadata": {},
   "outputs": [],
   "source": [
    "df = pd.DataFrame(report)"
   ]
  },
  {
   "cell_type": "code",
   "execution_count": null,
   "id": "4536d43d-a801-4c08-89c4-d0c838a03785",
   "metadata": {},
   "outputs": [],
   "source": [
    "df"
   ]
  },
  {
   "cell_type": "code",
   "execution_count": null,
   "id": "e10a5aaa-ba86-44d1-990a-869055f7a3a3",
   "metadata": {},
   "outputs": [],
   "source": []
  }
 ],
 "metadata": {
  "kernelspec": {
   "display_name": "Python 3",
   "language": "python",
   "name": "python3"
  },
  "language_info": {
   "codemirror_mode": {
    "name": "ipython",
    "version": 3
   },
   "file_extension": ".py",
   "mimetype": "text/x-python",
   "name": "python",
   "nbconvert_exporter": "python",
   "pygments_lexer": "ipython3",
   "version": "3.8.8"
  }
 },
 "nbformat": 4,
 "nbformat_minor": 5
}
