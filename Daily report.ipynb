{
 "cells": [
  {
   "cell_type": "code",
   "execution_count": null,
   "id": "80903063-f303-4374-ab01-648baddef8b9",
   "metadata": {},
   "outputs": [],
   "source": [
    "import brainimagelibrary as brainzzz\n",
    "import pandas as pd"
   ]
  },
  {
   "cell_type": "code",
   "execution_count": null,
   "id": "b6bdf11b-7d69-4165-985c-401e02f31bad",
   "metadata": {},
   "outputs": [],
   "source": [
    "report = brainzzz.reports.daily()"
   ]
  },
  {
   "cell_type": "code",
   "execution_count": null,
   "id": "bdf2fd92-3f08-44f8-85e5-2436ba61c98e",
   "metadata": {},
   "outputs": [],
   "source": [
    "df = pd.DataFrame(report)"
   ]
  },
  {
   "cell_type": "code",
   "execution_count": null,
   "id": "4536d43d-a801-4c08-89c4-d0c838a03785",
   "metadata": {},
   "outputs": [],
   "source": [
    "df"
   ]
  }
 ],
 "metadata": {
  "kernelspec": {
   "display_name": "Python 3 (ipykernel)",
   "language": "python",
   "name": "python3"
  },
  "language_info": {
   "codemirror_mode": {
    "name": "ipython",
    "version": 3
   },
   "file_extension": ".py",
   "mimetype": "text/x-python",
   "name": "python",
   "nbconvert_exporter": "python",
   "pygments_lexer": "ipython3",
   "version": "3.11.4"
  }
 },
 "nbformat": 4,
 "nbformat_minor": 5
}
